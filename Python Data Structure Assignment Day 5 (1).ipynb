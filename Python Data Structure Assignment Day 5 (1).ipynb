{
 "cells": [
  {
   "cell_type": "markdown",
   "id": "c6b01bd2",
   "metadata": {
    "id": "jGxqF4aIjNSq"
   },
   "source": [
    "<a id='1'></a><center> <h3 style=\"background-color:orange; color:white\" ><br>Python Data Structures<br></h3>"
   ]
  },
  {
   "cell_type": "markdown",
   "id": "1c05f00b",
   "metadata": {},
   "source": [
    "# `Types of Data Structures:`\n",
    "* `List` | `Tuple`\n",
    "* `Set` | `Dictionary`"
   ]
  },
  {
   "cell_type": "markdown",
   "id": "3713ad35",
   "metadata": {},
   "source": [
    "|Data Structures type|Mutable|Comments|Indexing|Ordered|Duplicacy|\n",
    "|----|----|----|----|----|----|\n",
    "tuple ()|immutable|immutable version of list| possible|yes |allowed |\n",
    "list []|mutable|-|possible |yes | allowed |\n",
    "set {}|mutable| -|not |no |not |\n",
    "dict {key:value}|mutable|-|possible |no |not  |"
   ]
  },
  {
   "cell_type": "markdown",
   "id": "9f320685",
   "metadata": {},
   "source": [
    "💫 `immutable` => `can't be changed` <br>\n",
    "💫 `mutable` => `can be changed`"
   ]
  },
  {
   "cell_type": "code",
   "execution_count": null,
   "id": "6431ebe0",
   "metadata": {},
   "outputs": [],
   "source": []
  },
  {
   "cell_type": "markdown",
   "id": "8765f077",
   "metadata": {
    "id": "Tyavi31ZjNSw"
   },
   "source": [
    "## Lists\n",
    "\n"
   ]
  },
  {
   "cell_type": "markdown",
   "id": "7193e0ab",
   "metadata": {
    "id": "tkDQdRdUjNSy"
   },
   "source": [
    "### Create an empty list with the name ‘a’, print the value of a and type(a).\n"
   ]
  },
  {
   "cell_type": "code",
   "execution_count": 1,
   "id": "23479cbb",
   "metadata": {
    "id": "a6i4yNGvjNSz"
   },
   "outputs": [],
   "source": [
    "# create empty list, name it 'a'\n",
    "a=[]"
   ]
  },
  {
   "cell_type": "code",
   "execution_count": 2,
   "id": "c8532bcf",
   "metadata": {
    "id": "M8FMNQEgjNS0",
    "outputId": "e614518d-cd99-4602-c082-7fcc1f9a0e3a"
   },
   "outputs": [
    {
     "name": "stdout",
     "output_type": "stream",
     "text": [
      "[]\n"
     ]
    }
   ],
   "source": [
    "# print the value of a\n",
    "\n",
    "print(a)"
   ]
  },
  {
   "cell_type": "code",
   "execution_count": 3,
   "id": "e35ef91b",
   "metadata": {
    "id": "Jfc9sg1vjNS1",
    "outputId": "462464e7-25c1-4a23-80cb-f8c6cf93fb18"
   },
   "outputs": [
    {
     "data": {
      "text/plain": [
       "list"
      ]
     },
     "execution_count": 3,
     "metadata": {},
     "output_type": "execute_result"
    }
   ],
   "source": [
    "# print the type of a\n",
    "type(a)"
   ]
  },
  {
   "cell_type": "markdown",
   "id": "59314b62",
   "metadata": {
    "id": "UNpN9_w4jNS1"
   },
   "source": [
    "### Create a list , languages = ['R','Python', 'SAS', 'Scala', 42], "
   ]
  },
  {
   "cell_type": "code",
   "execution_count": 4,
   "id": "4dcbba21",
   "metadata": {
    "id": "x-TG-vc5jNS2"
   },
   "outputs": [],
   "source": [
    "languages=['R','Python','SAS','Scala',42]"
   ]
  },
  {
   "cell_type": "markdown",
   "id": "4259b359",
   "metadata": {
    "id": "JDSIK8TbjNS3"
   },
   "source": [
    "Print the number of elements in the list"
   ]
  },
  {
   "cell_type": "code",
   "execution_count": 5,
   "id": "476d414b",
   "metadata": {
    "id": "C4lBMaM8jNS3",
    "outputId": "8f553c2e-3d4f-4a3c-ddb3-49b32c4d6fce"
   },
   "outputs": [
    {
     "name": "stdout",
     "output_type": "stream",
     "text": [
      "5\n"
     ]
    }
   ],
   "source": [
    "print(len(languages))"
   ]
  },
  {
   "cell_type": "markdown",
   "id": "fa4d631d",
   "metadata": {
    "id": "EyzO_pcnjNS3"
   },
   "source": [
    "Using for loop iterate and print all the elements in the list"
   ]
  },
  {
   "cell_type": "code",
   "execution_count": 6,
   "id": "5d706254",
   "metadata": {
    "id": "TyM54ydsjNS4",
    "outputId": "a83aecf6-2a59-4d56-ee29-d0c3f0711bc4"
   },
   "outputs": [
    {
     "name": "stdout",
     "output_type": "stream",
     "text": [
      "R\n",
      "Python\n",
      "SAS\n",
      "Scala\n",
      "42\n"
     ]
    }
   ],
   "source": [
    "for a in languages:\n",
    "    print(a)\n",
    "\n"
   ]
  },
  {
   "cell_type": "markdown",
   "id": "bdcd86b6",
   "metadata": {
    "id": "eC1fqz9LjNS4"
   },
   "source": [
    "Select the second item, 'Python' and store it in a new variable named 'temp'"
   ]
  },
  {
   "cell_type": "code",
   "execution_count": 7,
   "id": "5edffd81",
   "metadata": {
    "id": "KY0KhRlOjNS4"
   },
   "outputs": [],
   "source": [
    "languages.insert(1,'temp')"
   ]
  },
  {
   "cell_type": "markdown",
   "id": "7ec0911b",
   "metadata": {
    "id": "breORMa_jNS4"
   },
   "source": [
    "Print the value of temp and type(temp)"
   ]
  },
  {
   "cell_type": "code",
   "execution_count": 8,
   "id": "3a9751bc",
   "metadata": {
    "id": "MbvX2aIgjNS5",
    "outputId": "f8ec4c46-26d8-4822-c3c7-b18a6cc7f149"
   },
   "outputs": [
    {
     "name": "stdout",
     "output_type": "stream",
     "text": [
      "temp\n",
      "<class 'str'>\n"
     ]
    }
   ],
   "source": [
    "print(languages[1])\n",
    "print(type('temp'))\n"
   ]
  },
  {
   "cell_type": "markdown",
   "id": "a70cb2e1",
   "metadata": {
    "id": "I4MrKlAUjNS5"
   },
   "source": [
    "Append the element 'Java' in the list"
   ]
  },
  {
   "cell_type": "code",
   "execution_count": 9,
   "id": "3234782b",
   "metadata": {
    "id": "rOtqZY6PjNS6"
   },
   "outputs": [
    {
     "data": {
      "text/plain": [
       "['R', 'temp', 'Python', 'SAS', 'Scala', 42, 'Java']"
      ]
     },
     "execution_count": 9,
     "metadata": {},
     "output_type": "execute_result"
    }
   ],
   "source": [
    "languages.append('Java')\n",
    "languages"
   ]
  },
  {
   "cell_type": "markdown",
   "id": "1eb6a439",
   "metadata": {
    "id": "ksEn8qvFjNS6"
   },
   "source": [
    "Remove the element 42 from the list and print the list"
   ]
  },
  {
   "cell_type": "code",
   "execution_count": 10,
   "id": "a9e6406a",
   "metadata": {
    "id": "Lxuzfc1bjNS6",
    "outputId": "71e5abaf-0020-44d5-af96-9b6f832ce001"
   },
   "outputs": [
    {
     "data": {
      "text/plain": [
       "['R', 'temp', 'Python', 'SAS', 'Scala', 'Java']"
      ]
     },
     "execution_count": 10,
     "metadata": {},
     "output_type": "execute_result"
    }
   ],
   "source": [
    "languages.pop(5)\n",
    "languages\n"
   ]
  },
  {
   "cell_type": "markdown",
   "id": "171be19b",
   "metadata": {
    "id": "19MjI0w6jNS6"
   },
   "source": [
    "### Create a list, colors = [‘Red’, ‘Blue’, ‘White’]"
   ]
  },
  {
   "cell_type": "code",
   "execution_count": 11,
   "id": "bfc7a2b5",
   "metadata": {
    "id": "Z1lMzdbWjNS7"
   },
   "outputs": [],
   "source": [
    "colors=['Red','Blue','Java']"
   ]
  },
  {
   "cell_type": "markdown",
   "id": "5bfebe85",
   "metadata": {
    "id": "VAqLj5R3jNS7"
   },
   "source": [
    "Append the element 'Black' to colors"
   ]
  },
  {
   "cell_type": "code",
   "execution_count": 12,
   "id": "f393399e",
   "metadata": {
    "id": "gvb5iC7ljNS7"
   },
   "outputs": [
    {
     "data": {
      "text/plain": [
       "['Red', 'Blue', 'Java', 'Black']"
      ]
     },
     "execution_count": 12,
     "metadata": {},
     "output_type": "execute_result"
    }
   ],
   "source": [
    "colors.append('Black')\n",
    "colors\n",
    "\n"
   ]
  },
  {
   "cell_type": "markdown",
   "id": "cef4805f",
   "metadata": {
    "id": "MFWIzVcvjNS7"
   },
   "source": [
    "Append the color 'Orange' to second position (index=1) and print the list"
   ]
  },
  {
   "cell_type": "code",
   "execution_count": 13,
   "id": "15c47237",
   "metadata": {
    "id": "Fb6YZDSNjNS8"
   },
   "outputs": [
    {
     "data": {
      "text/plain": [
       "['Red', 'Orange', 'Blue', 'Java', 'Black']"
      ]
     },
     "execution_count": 13,
     "metadata": {},
     "output_type": "execute_result"
    }
   ],
   "source": [
    "colors.insert(1,'Orange')\n",
    "colors\n",
    "\n"
   ]
  },
  {
   "cell_type": "markdown",
   "id": "e93ce7de",
   "metadata": {
    "id": "8DWB76AOjNS8"
   },
   "source": [
    "Print the list\n"
   ]
  },
  {
   "cell_type": "code",
   "execution_count": 14,
   "id": "4f51c6cb",
   "metadata": {
    "id": "0ldkGCozjNS8",
    "outputId": "0a5cb8e4-f656-4122-b50a-e7716ef09086"
   },
   "outputs": [
    {
     "name": "stdout",
     "output_type": "stream",
     "text": [
      "['Red', 'Orange', 'Blue', 'Java', 'Black']\n"
     ]
    }
   ],
   "source": [
    "print(colors)"
   ]
  },
  {
   "cell_type": "markdown",
   "id": "3e1b00c4",
   "metadata": {
    "id": "WfFfxvLKjNS8"
   },
   "source": [
    "Create another list, colors2 = [‘Grey’, ‘Sky Blue’]"
   ]
  },
  {
   "cell_type": "code",
   "execution_count": 15,
   "id": "f0b736f3",
   "metadata": {
    "id": "onZEiwdUjNS8"
   },
   "outputs": [],
   "source": [
    "colors2=['Grey','SkyBlue']"
   ]
  },
  {
   "cell_type": "markdown",
   "id": "a849659c",
   "metadata": {
    "id": "MrNQk6uKjNS8"
   },
   "source": [
    "Add the elements of colors2 to colors using extend function in the list"
   ]
  },
  {
   "cell_type": "code",
   "execution_count": 16,
   "id": "f198d6b9",
   "metadata": {
    "id": "Hr1Eu88OjNS9"
   },
   "outputs": [],
   "source": [
    "colors.extend(colors2)"
   ]
  },
  {
   "cell_type": "markdown",
   "id": "97ed2f59",
   "metadata": {
    "id": "u0KDeU20jNS9"
   },
   "source": [
    "Print len of colors and its elements"
   ]
  },
  {
   "cell_type": "code",
   "execution_count": 17,
   "id": "e2fd6936",
   "metadata": {
    "id": "bnBmsCg2jNS9",
    "outputId": "f126519a-bafd-4438-fe21-af7586b5740d"
   },
   "outputs": [
    {
     "name": "stdout",
     "output_type": "stream",
     "text": [
      "7\n"
     ]
    }
   ],
   "source": [
    "print(len(colors))\n",
    "\n"
   ]
  },
  {
   "cell_type": "markdown",
   "id": "a0f04848",
   "metadata": {
    "id": "vJ7YqokSjNS9"
   },
   "source": [
    "Sort the list and print it."
   ]
  },
  {
   "cell_type": "code",
   "execution_count": 18,
   "id": "8b05f961",
   "metadata": {
    "id": "X14C-1PtjNS9",
    "outputId": "02524dae-3592-47e2-98b0-77501aa15b64"
   },
   "outputs": [
    {
     "data": {
      "text/plain": [
       "['Black', 'Blue', 'Grey', 'Java', 'Orange', 'Red', 'SkyBlue']"
      ]
     },
     "execution_count": 18,
     "metadata": {},
     "output_type": "execute_result"
    }
   ],
   "source": [
    "colors.sort()\n",
    "colors\n",
    "\n"
   ]
  },
  {
   "cell_type": "markdown",
   "id": "262f085c",
   "metadata": {
    "id": "MdN5B9F9jNS-"
   },
   "source": [
    "### Create a string, sent = ‘Coronavirus Caused Lockdowns Around The World.”"
   ]
  },
  {
   "cell_type": "code",
   "execution_count": 19,
   "id": "9b287fb5",
   "metadata": {
    "id": "j4JUR085jNS-"
   },
   "outputs": [],
   "source": [
    "sent=\"Coronavirus Caused Lockdowns Around The World\""
   ]
  },
  {
   "cell_type": "markdown",
   "id": "906dc531",
   "metadata": {
    "id": "rcn18drOjNS-"
   },
   "source": [
    "Use split function to convert the string into a list of words and save it in variable words and print the same"
   ]
  },
  {
   "cell_type": "code",
   "execution_count": 20,
   "id": "4673aba6",
   "metadata": {
    "id": "fjiKSboajNS-",
    "outputId": "b6bfb22e-147a-4d90-9428-d321d9824589"
   },
   "outputs": [
    {
     "data": {
      "text/plain": [
       "['Coronavirus', 'Caused', 'Lockdowns', 'Around', 'The', 'World']"
      ]
     },
     "execution_count": 20,
     "metadata": {},
     "output_type": "execute_result"
    }
   ],
   "source": [
    "words=sent.split()\n",
    "words\n"
   ]
  },
  {
   "cell_type": "markdown",
   "id": "39ad8ab0",
   "metadata": {
    "id": "rowxhN26jNS_"
   },
   "source": [
    "Convert each word in the list to lower case and store it in variable words_lower. \n",
    "Print words_lower"
   ]
  },
  {
   "cell_type": "code",
   "execution_count": 21,
   "id": "cc5ba0c7",
   "metadata": {
    "id": "LuzAECOVjNS_",
    "outputId": "d2c5bbbe-af46-4659-fdcb-d5de59d24099"
   },
   "outputs": [
    {
     "data": {
      "text/plain": [
       "['coronavirus', 'caused', 'lockdowns', 'around', 'the', 'world']"
      ]
     },
     "execution_count": 21,
     "metadata": {},
     "output_type": "execute_result"
    }
   ],
   "source": [
    "words_lower=[words.lower() for words in words]\n",
    "words_lower\n"
   ]
  },
  {
   "cell_type": "markdown",
   "id": "24339ea3",
   "metadata": {
    "id": "zznwP-l9jNS_"
   },
   "source": [
    "Check whether ‘country’ is in the list"
   ]
  },
  {
   "cell_type": "code",
   "execution_count": 22,
   "id": "146eda94",
   "metadata": {
    "id": "y-U1felnjNS_",
    "outputId": "1e5fb9dd-4add-4438-97da-60db75ce0fce"
   },
   "outputs": [],
   "source": [
    "a='country'\n",
    "for a in words:\n",
    "     a"
   ]
  },
  {
   "cell_type": "markdown",
   "id": "eef8cf65",
   "metadata": {
    "id": "AZMvSVKWjNS_"
   },
   "source": [
    "Remove the element ‘the’ from the list and print the list."
   ]
  },
  {
   "cell_type": "code",
   "execution_count": 23,
   "id": "670fdbd6",
   "metadata": {
    "id": "bmDbpYd7jNS_",
    "outputId": "e96ddeed-af03-4d0c-a7dd-6c7a716e349a"
   },
   "outputs": [],
   "source": [
    "words_lower.remove('the')\n",
    "\n"
   ]
  },
  {
   "cell_type": "markdown",
   "id": "6263b0c9",
   "metadata": {
    "id": "int3gJc0jNS_"
   },
   "source": [
    "Select the first 4 words from the list words_lower using slicing and store them in a new variable x4"
   ]
  },
  {
   "cell_type": "code",
   "execution_count": 24,
   "id": "06fc1532",
   "metadata": {
    "id": "fXOJmYI1jNTA"
   },
   "outputs": [],
   "source": [
    "x4=words_lower[:4]"
   ]
  },
  {
   "cell_type": "code",
   "execution_count": 25,
   "id": "4a7c4a6a",
   "metadata": {
    "id": "2Kb_1V9HjNTA",
    "outputId": "49b4815f-910d-45d2-da69-6be48927e099"
   },
   "outputs": [
    {
     "data": {
      "text/plain": [
       "['coronavirus', 'caused', 'lockdowns', 'around']"
      ]
     },
     "execution_count": 25,
     "metadata": {},
     "output_type": "execute_result"
    }
   ],
   "source": [
    "# print x4\n",
    "\n",
    "x4"
   ]
  },
  {
   "cell_type": "markdown",
   "id": "30704ca7",
   "metadata": {
    "id": "3HgP3nUmjNTA"
   },
   "source": [
    "Convert the list of elements to single string using join function and print it"
   ]
  },
  {
   "cell_type": "code",
   "execution_count": 26,
   "id": "d591c84a",
   "metadata": {
    "id": "hiXO7ekhjNTA",
    "outputId": "db0f6673-174f-4bee-f6c5-c7e7d4f4612b"
   },
   "outputs": [
    {
     "data": {
      "text/plain": [
       "'coronavirus caused lockdowns around world'"
      ]
     },
     "execution_count": 26,
     "metadata": {},
     "output_type": "execute_result"
    }
   ],
   "source": [
    "str=\" \".join(words_lower)\n",
    "str"
   ]
  },
  {
   "cell_type": "markdown",
   "id": "5748fb68",
   "metadata": {
    "id": "tW6We_kvjNTA"
   },
   "source": [
    "## Sets"
   ]
  },
  {
   "cell_type": "markdown",
   "id": "df4f1e34",
   "metadata": {
    "id": "02qkte5xjNTA"
   },
   "source": [
    "### Create stud_grades = ['A','A','B','C','C','F']"
   ]
  },
  {
   "cell_type": "code",
   "execution_count": 27,
   "id": "5ee30752",
   "metadata": {
    "id": "M5P_qZaTjNTB"
   },
   "outputs": [],
   "source": [
    "stud_grades=['A','A','B','C','c','F']"
   ]
  },
  {
   "cell_type": "markdown",
   "id": "bebca09f",
   "metadata": {
    "id": "XazCnMcBjNTB"
   },
   "source": [
    "Print the len of stud_grades"
   ]
  },
  {
   "cell_type": "code",
   "execution_count": 28,
   "id": "fa078563",
   "metadata": {
    "id": "gMMJN-V5jNTB",
    "outputId": "ae1dee90-d009-4230-b7ae-8ea1ee32cbfa"
   },
   "outputs": [
    {
     "name": "stdout",
     "output_type": "stream",
     "text": [
      "6\n"
     ]
    }
   ],
   "source": [
    "print(len(stud_grades))\n",
    "\n"
   ]
  },
  {
   "cell_type": "markdown",
   "id": "392b5230",
   "metadata": {
    "id": "ALm7hstGjNTB"
   },
   "source": [
    "Create a new variable, stud_grades_set = set(stud_grades)"
   ]
  },
  {
   "cell_type": "code",
   "execution_count": 29,
   "id": "258a7564",
   "metadata": {},
   "outputs": [],
   "source": [
    "stud_grades_set=set(stud_grades)"
   ]
  },
  {
   "cell_type": "markdown",
   "id": "0266d921",
   "metadata": {
    "id": "JJESkQiJjNTB"
   },
   "source": [
    "Print stud_grades_set. "
   ]
  },
  {
   "cell_type": "code",
   "execution_count": 30,
   "id": "1752cc57",
   "metadata": {
    "id": "Q-daiiLPjNTB",
    "outputId": "9b37d1b8-7765-4564-f706-a4f9482b7368"
   },
   "outputs": [
    {
     "name": "stdout",
     "output_type": "stream",
     "text": [
      "{'c', 'F', 'A', 'C', 'B'}\n"
     ]
    }
   ],
   "source": [
    "print(stud_grades_set)"
   ]
  },
  {
   "cell_type": "markdown",
   "id": "505aea30",
   "metadata": {
    "id": "hNeCPwPOjNTC"
   },
   "source": [
    "print the type of stud_grades and stud_grades_set and print their corresponding elements. Try to understand the difference between them."
   ]
  },
  {
   "cell_type": "code",
   "execution_count": 31,
   "id": "0bd7eeef",
   "metadata": {
    "id": "g7cntC0ojNTC",
    "outputId": "881a71e0-fd7e-4a3e-c340-95b6e736255a"
   },
   "outputs": [
    {
     "name": "stdout",
     "output_type": "stream",
     "text": [
      "<class 'list'>\n",
      "<class 'set'>\n",
      "['A', 'A', 'B', 'C', 'c', 'F'] {'c', 'F', 'A', 'C', 'B'}\n"
     ]
    }
   ],
   "source": [
    "print(type(stud_grades))\n",
    "print(type(stud_grades_set))\n",
    "print(stud_grades,stud_grades_set)\n",
    "\n"
   ]
  },
  {
   "cell_type": "markdown",
   "id": "3ca574c5",
   "metadata": {
    "id": "WjzzJX8yjNTC"
   },
   "source": [
    "Add a new element ‘G’ to stud_grades_set"
   ]
  },
  {
   "cell_type": "code",
   "execution_count": 32,
   "id": "be27dbd2",
   "metadata": {
    "id": "y80DVAlRjNTC"
   },
   "outputs": [],
   "source": [
    "stud_grades_set.add('G')\n"
   ]
  },
  {
   "cell_type": "markdown",
   "id": "f2421526",
   "metadata": {
    "id": "4TO9zhSJjNTC"
   },
   "source": [
    "Add element 'F' to stud_grades_set. and print it."
   ]
  },
  {
   "cell_type": "code",
   "execution_count": 33,
   "id": "3e4416b8",
   "metadata": {
    "id": "Bh4tc1zCjNTC",
    "outputId": "67cdce79-7542-4536-8824-7c3f08855f76"
   },
   "outputs": [
    {
     "name": "stdout",
     "output_type": "stream",
     "text": [
      "{'c', 'F', 'G', 'A', 'C', 'B'}\n"
     ]
    }
   ],
   "source": [
    "stud_grades_set.add('F')\n",
    "print(stud_grades_set)\n",
    "\n"
   ]
  },
  {
   "cell_type": "markdown",
   "id": "4bc841d5",
   "metadata": {
    "id": "FSgM3DD5jNTD"
   },
   "source": [
    "!!Did you notice? set doesn't add an element if it's already present in it, unlike lists."
   ]
  },
  {
   "cell_type": "markdown",
   "id": "dbe54372",
   "metadata": {
    "id": "tqz1GBM5jNTD"
   },
   "source": [
    "Remove ‘F’ from stud_grades_set"
   ]
  },
  {
   "cell_type": "code",
   "execution_count": 34,
   "id": "6731fee5",
   "metadata": {
    "id": "zOLBDdk0jNTD"
   },
   "outputs": [
    {
     "name": "stdout",
     "output_type": "stream",
     "text": [
      "{'c', 'G', 'A', 'C', 'B'}\n"
     ]
    }
   ],
   "source": [
    "stud_grades_set.remove('F')\n",
    "print(stud_grades_set)\n",
    "\n"
   ]
  },
  {
   "cell_type": "markdown",
   "id": "a0098e35",
   "metadata": {
    "id": "wxMXywoRjNTD"
   },
   "source": [
    "Print the elements and the length of stud_grades_set"
   ]
  },
  {
   "cell_type": "code",
   "execution_count": 35,
   "id": "28ee3af9",
   "metadata": {
    "id": "lS582g27jNTD",
    "outputId": "03e846de-16c3-4f74-caf5-b11bb2519b91"
   },
   "outputs": [
    {
     "name": "stdout",
     "output_type": "stream",
     "text": [
      "5\n"
     ]
    }
   ],
   "source": [
    "print(len(stud_grades_set))"
   ]
  },
  {
   "cell_type": "markdown",
   "id": "75fc75db",
   "metadata": {
    "id": "FctCYkNBjNTD"
   },
   "source": [
    "### Create colors = [‘red’,’blue’,’orange’], and fruits = [‘orange’,’grapes’,’apples’] "
   ]
  },
  {
   "cell_type": "code",
   "execution_count": 36,
   "id": "0c77e55f",
   "metadata": {},
   "outputs": [],
   "source": [
    "colors=['red','blue','orange']\n",
    "fruits=['orange','grapes','apples']"
   ]
  },
  {
   "cell_type": "markdown",
   "id": "8c73ee24",
   "metadata": {
    "id": "kfIRtvphjNTE"
   },
   "source": [
    "Print color and fruits"
   ]
  },
  {
   "cell_type": "code",
   "execution_count": 37,
   "id": "e124e5f6",
   "metadata": {
    "id": "q-gavK0-jNTE",
    "outputId": "6e0c3843-3efe-4e88-8a19-616e2cf4bdb3"
   },
   "outputs": [
    {
     "name": "stdout",
     "output_type": "stream",
     "text": [
      "['red', 'blue', 'orange']\n",
      "['orange', 'grapes', 'apples']\n"
     ]
    }
   ],
   "source": [
    "print(colors)\n",
    "print(fruits)"
   ]
  },
  {
   "cell_type": "markdown",
   "id": "4e2bff97",
   "metadata": {
    "id": "uMOTrWwSjNTE"
   },
   "source": [
    "Create colors_set, and fruits_set. (using set() ) and print them"
   ]
  },
  {
   "cell_type": "code",
   "execution_count": 38,
   "id": "88ba8d2a",
   "metadata": {},
   "outputs": [
    {
     "name": "stdout",
     "output_type": "stream",
     "text": [
      "{'red', 'blue', 'orange'}\n",
      "{'apples', 'grapes', 'orange'}\n"
     ]
    }
   ],
   "source": [
    "colors_set=set(colors)\n",
    "fruits_set=set(fruits)\n",
    "print(colors_set)\n",
    "print(fruits_set)"
   ]
  },
  {
   "cell_type": "markdown",
   "id": "46ddfac9",
   "metadata": {
    "id": "tW9fj0R1jNTE"
   },
   "source": [
    "Find the union of both the sets."
   ]
  },
  {
   "cell_type": "code",
   "execution_count": 39,
   "id": "35ef8ce0",
   "metadata": {
    "id": "oyskI_CTjNTE",
    "outputId": "4e89c025-10ef-405c-cbd4-f8c1ae2f92b4"
   },
   "outputs": [
    {
     "name": "stdout",
     "output_type": "stream",
     "text": [
      "{'red', 'blue', 'apples', 'grapes', 'orange'}\n"
     ]
    }
   ],
   "source": [
    "print(colors_set.union(fruits_set))\n",
    "\n"
   ]
  },
  {
   "cell_type": "markdown",
   "id": "fc32ae90",
   "metadata": {
    "id": "3yXYgYBLjNTF"
   },
   "source": [
    "Find the intersection of both the sets "
   ]
  },
  {
   "cell_type": "code",
   "execution_count": 40,
   "id": "eb987d51",
   "metadata": {
    "id": "3AzYqu5sjNTF",
    "outputId": "01ae145a-f15b-4a20-b9bc-9d8a25cf1679"
   },
   "outputs": [
    {
     "name": "stdout",
     "output_type": "stream",
     "text": [
      "{'orange'}\n"
     ]
    }
   ],
   "source": [
    "print(colors_set.intersection(fruits_set))"
   ]
  },
  {
   "cell_type": "markdown",
   "id": "8d833470",
   "metadata": {
    "id": "PuhlSjH_jNTF"
   },
   "source": [
    "Find the elements which are Fruits but not colors (using set.difference() )"
   ]
  },
  {
   "cell_type": "code",
   "execution_count": 41,
   "id": "db4edee7",
   "metadata": {
    "id": "gBaxHXrfjNTF",
    "outputId": "2178193f-aae5-4e59-acc1-8bce28e28143"
   },
   "outputs": [
    {
     "name": "stdout",
     "output_type": "stream",
     "text": [
      "{'apples', 'grapes'}\n"
     ]
    }
   ],
   "source": [
    "print(fruits_set.difference(colors))\n"
   ]
  },
  {
   "cell_type": "code",
   "execution_count": null,
   "id": "45a67e70",
   "metadata": {},
   "outputs": [],
   "source": []
  },
  {
   "cell_type": "markdown",
   "id": "610a090e",
   "metadata": {
    "id": "hLZeBta3jNTF"
   },
   "source": [
    "## TUPLES"
   ]
  },
  {
   "cell_type": "markdown",
   "id": "b0d997d9",
   "metadata": {
    "id": "Nerhdg66jNTF"
   },
   "source": [
    "### Create temp = [17, ’Virat’, 50.0]"
   ]
  },
  {
   "cell_type": "code",
   "execution_count": 42,
   "id": "7f6357d6",
   "metadata": {},
   "outputs": [],
   "source": [
    "temp=[17,'Virat',50.0]"
   ]
  },
  {
   "cell_type": "markdown",
   "id": "2f244433",
   "metadata": {
    "id": "C0IuMJFijNTG"
   },
   "source": [
    "Iterate through temp and print all the items in temp"
   ]
  },
  {
   "cell_type": "code",
   "execution_count": 43,
   "id": "fce36c5a",
   "metadata": {
    "id": "CSKY_cgHjNTG",
    "outputId": "ec834f68-6713-4941-9fc3-dc0e59965222"
   },
   "outputs": [
    {
     "name": "stdout",
     "output_type": "stream",
     "text": [
      "[17, 'Virat', 50.0]\n"
     ]
    }
   ],
   "source": [
    "print(temp)\n"
   ]
  },
  {
   "cell_type": "markdown",
   "id": "27273d31",
   "metadata": {
    "id": "gI0kBGQ1jNTG"
   },
   "source": [
    "replace first element with 11 in temp"
   ]
  },
  {
   "cell_type": "code",
   "execution_count": 44,
   "id": "cdae0742",
   "metadata": {
    "id": "p6JCtyOBjNTG"
   },
   "outputs": [
    {
     "name": "stdout",
     "output_type": "stream",
     "text": [
      "(11, 'Virat', 50.0)\n"
     ]
    }
   ],
   "source": [
    "y=list(temp)\n",
    "y[0]=11\n",
    "temp=tuple(y)\n",
    "print(temp)"
   ]
  },
  {
   "cell_type": "markdown",
   "id": "f17d13ca",
   "metadata": {
    "id": "JV3b34AdjNTG"
   },
   "source": [
    "Set temp1 = tuple(temp)"
   ]
  },
  {
   "cell_type": "code",
   "execution_count": 46,
   "id": "df341b56",
   "metadata": {},
   "outputs": [],
   "source": [
    "temp1=tuple(temp)"
   ]
  },
  {
   "cell_type": "markdown",
   "id": "04ddeb14",
   "metadata": {
    "id": "Z9LJWgBkjNTG"
   },
   "source": [
    "Iterate through temp1 and print all the items in temp1. "
   ]
  },
  {
   "cell_type": "code",
   "execution_count": 47,
   "id": "f51d4691",
   "metadata": {
    "id": "t0v-FZsNjNTH",
    "outputId": "7f98ae38-8bae-4687-f46b-31fb12ac5c6c"
   },
   "outputs": [
    {
     "name": "stdout",
     "output_type": "stream",
     "text": [
      "(11, 'Virat', 50.0)\n"
     ]
    }
   ],
   "source": [
    "print(temp1)"
   ]
  },
  {
   "cell_type": "markdown",
   "id": "6cec289b",
   "metadata": {
    "id": "A4FXMQDfjNTH"
   },
   "source": [
    "replace first element with 17 in temp1"
   ]
  },
  {
   "cell_type": "code",
   "execution_count": 48,
   "id": "8c5ae0ce",
   "metadata": {
    "id": "eioDSdW8jNTH",
    "outputId": "bf108fa6-bcad-4684-dc24-b9efbfc357a8"
   },
   "outputs": [
    {
     "name": "stdout",
     "output_type": "stream",
     "text": [
      "(17, 'Virat', 50.0)\n"
     ]
    }
   ],
   "source": [
    "y=list(temp1)\n",
    "y[0]=17\n",
    "temp1=tuple(y)\n",
    "print(temp1)"
   ]
  },
  {
   "cell_type": "markdown",
   "id": "6ecfad70",
   "metadata": {
    "id": "IuGIObFZjNTH"
   },
   "source": [
    "<b>Oops!! You got an error. Hey Don't worry! Its because Once a tuple is created, you cannot change its values unlike list.</b>"
   ]
  },
  {
   "cell_type": "markdown",
   "id": "2acb7167",
   "metadata": {
    "id": "ExB_cM1ZjNTH"
   },
   "source": [
    "### Create city = (\"Bangalore\", 28.9949521, 72)"
   ]
  },
  {
   "cell_type": "code",
   "execution_count": 49,
   "id": "49dcc77c",
   "metadata": {
    "id": "fWz52DjjjNTH"
   },
   "outputs": [],
   "source": [
    "city=('Bangalore',28.9949521,72)"
   ]
  },
  {
   "cell_type": "markdown",
   "id": "553486ea",
   "metadata": {
    "id": "v4ipyqXsjNTH"
   },
   "source": [
    "Print first element of city"
   ]
  },
  {
   "cell_type": "code",
   "execution_count": 51,
   "id": "85fb7097",
   "metadata": {
    "id": "KJHMuFk1jNTI",
    "outputId": "f3915b36-1f5b-4ac1-e2bb-a53f9ce142f8"
   },
   "outputs": [
    {
     "name": "stdout",
     "output_type": "stream",
     "text": [
      "Bangalore\n"
     ]
    }
   ],
   "source": [
    "print(city[0])"
   ]
  },
  {
   "cell_type": "markdown",
   "id": "a3213c13",
   "metadata": {
    "id": "N5FoHg4ujNTI"
   },
   "source": [
    "Create city2 = (‘Chennai’, 30.01, 74)"
   ]
  },
  {
   "cell_type": "code",
   "execution_count": 52,
   "id": "883940b0",
   "metadata": {
    "id": "fYuGqbDEjNTI"
   },
   "outputs": [],
   "source": [
    "city2=('Chennai',30.01,74)"
   ]
  },
  {
   "cell_type": "markdown",
   "id": "8f07721d",
   "metadata": {
    "id": "0gz-HACUjNTI"
   },
   "source": [
    "Create cities which consist of city and city2"
   ]
  },
  {
   "cell_type": "code",
   "execution_count": 54,
   "id": "6b991e73",
   "metadata": {
    "id": "5dTN1LQPjNTI"
   },
   "outputs": [],
   "source": [
    "cities=city+city2"
   ]
  },
  {
   "cell_type": "markdown",
   "id": "011bece1",
   "metadata": {
    "id": "He-teRi2jNTI"
   },
   "source": [
    "Print cities"
   ]
  },
  {
   "cell_type": "code",
   "execution_count": 55,
   "id": "0a0586c4",
   "metadata": {
    "id": "ISySNfxGjNTI",
    "outputId": "bee231a2-a635-496f-b5b7-57795a0fd7ab"
   },
   "outputs": [
    {
     "name": "stdout",
     "output_type": "stream",
     "text": [
      "('Bangalore', 28.9949521, 72, 'Chennai', 30.01, 74)\n"
     ]
    }
   ],
   "source": [
    "print(cities)"
   ]
  },
  {
   "cell_type": "markdown",
   "id": "3512141c",
   "metadata": {
    "id": "brFx6-rtjNTJ"
   },
   "source": [
    "Print type of first element in cities"
   ]
  },
  {
   "cell_type": "code",
   "execution_count": 56,
   "id": "76ce44a9",
   "metadata": {
    "id": "CmIifGybjNTJ",
    "outputId": "085cb498-1027-4ce6-8803-904d39050a97"
   },
   "outputs": [
    {
     "name": "stdout",
     "output_type": "stream",
     "text": [
      "<class 'str'>\n"
     ]
    }
   ],
   "source": [
    "print(type(cities[0]))"
   ]
  },
  {
   "cell_type": "markdown",
   "id": "68452b48",
   "metadata": {
    "id": "jtk8J_yHjNTJ"
   },
   "source": [
    "print the type of cities\n"
   ]
  },
  {
   "cell_type": "code",
   "execution_count": 57,
   "id": "68c41c1c",
   "metadata": {
    "id": "y9rdG29XjNTJ",
    "outputId": "2d1e34cb-5b76-44b4-e806-9287ee31fa87"
   },
   "outputs": [
    {
     "name": "stdout",
     "output_type": "stream",
     "text": [
      "<class 'tuple'>\n"
     ]
    }
   ],
   "source": [
    "print(type(cities))"
   ]
  },
  {
   "cell_type": "markdown",
   "id": "5d885471",
   "metadata": {
    "id": "uXHSadWqjNTJ"
   },
   "source": [
    "Hey that implies you made a nested tuples!!"
   ]
  },
  {
   "cell_type": "markdown",
   "id": "995c14c7",
   "metadata": {
    "id": "zViY-S_djNTJ"
   },
   "source": [
    "## DICTIONARY"
   ]
  },
  {
   "cell_type": "markdown",
   "id": "cd2a00e3",
   "metadata": {
    "id": "4NjUxRaZjNTK"
   },
   "source": [
    "### Create a dictionary d = {\"actor\":\"amir\",\"animal\":\"cat\",\"earth\":2,\"list\":[23,32,12]}"
   ]
  },
  {
   "cell_type": "code",
   "execution_count": 58,
   "id": "17a8cc91",
   "metadata": {
    "id": "UCtEFPI4jNTK"
   },
   "outputs": [],
   "source": [
    "d={\"actor\":\"amir\",\"animal\":\"cat\",\"earth\":2,\"list\":[23,32,12]}"
   ]
  },
  {
   "cell_type": "markdown",
   "id": "a204905c",
   "metadata": {
    "id": "OamenDk8jNTK"
   },
   "source": [
    "Print the value of d[0]"
   ]
  },
  {
   "cell_type": "code",
   "execution_count": 59,
   "id": "437fbcba",
   "metadata": {
    "id": "gion3awcjNTK",
    "outputId": "59a88b33-f80a-4448-8c92-262c242ca689"
   },
   "outputs": [
    {
     "ename": "KeyError",
     "evalue": "0",
     "output_type": "error",
     "traceback": [
      "\u001b[1;31m---------------------------------------------------------------------------\u001b[0m",
      "\u001b[1;31mKeyError\u001b[0m                                  Traceback (most recent call last)",
      "Cell \u001b[1;32mIn[59], line 1\u001b[0m\n\u001b[1;32m----> 1\u001b[0m \u001b[38;5;28mprint\u001b[39m(d[\u001b[38;5;241m0\u001b[39m])\n",
      "\u001b[1;31mKeyError\u001b[0m: 0"
     ]
    }
   ],
   "source": [
    "print(d[0])"
   ]
  },
  {
   "cell_type": "markdown",
   "id": "17b0ee3e",
   "metadata": {
    "id": "XYtrrUigjNTK"
   },
   "source": [
    "<b>Oops!! again an error. again a fun fact. Dictionary return the value for key if key is in the dictionary, else throws KeyError\n",
    "and we don't have key 0 here :( </b>"
   ]
  },
  {
   "cell_type": "markdown",
   "id": "586b5e07",
   "metadata": {
    "id": "62VXYnw1jNTK"
   },
   "source": [
    "Store the value of d[‘actor’] to a new variable actor."
   ]
  },
  {
   "cell_type": "code",
   "execution_count": 60,
   "id": "6311e6a7",
   "metadata": {
    "id": "kkBfNz81jNTK"
   },
   "outputs": [
    {
     "data": {
      "text/plain": [
       "'amir'"
      ]
     },
     "execution_count": 60,
     "metadata": {},
     "output_type": "execute_result"
    }
   ],
   "source": [
    "actor=d[\"actor\"]\n",
    "actor\n"
   ]
  },
  {
   "cell_type": "markdown",
   "id": "6b4ebac0",
   "metadata": {
    "id": "uFfuF569jNTL"
   },
   "source": [
    "Print the type of actor"
   ]
  },
  {
   "cell_type": "code",
   "execution_count": 61,
   "id": "15350c60",
   "metadata": {
    "id": "bKbFXBxyjNTL",
    "outputId": "ec200684-a8ac-403e-9aea-ca06a015a12e"
   },
   "outputs": [
    {
     "name": "stdout",
     "output_type": "stream",
     "text": [
      "<class 'str'>\n"
     ]
    }
   ],
   "source": [
    "print(type(actor))"
   ]
  },
  {
   "cell_type": "markdown",
   "id": "43a6319f",
   "metadata": {
    "id": "y549qN04jNTL"
   },
   "source": [
    "Store the value of d[‘list’] in new variable List. "
   ]
  },
  {
   "cell_type": "code",
   "execution_count": 62,
   "id": "360d6937",
   "metadata": {
    "id": "I7GyOK8DjNTL"
   },
   "outputs": [
    {
     "data": {
      "text/plain": [
       "[23, 32, 12]"
      ]
     },
     "execution_count": 62,
     "metadata": {},
     "output_type": "execute_result"
    }
   ],
   "source": [
    "list=d[\"list\"]\n",
    "list"
   ]
  },
  {
   "cell_type": "markdown",
   "id": "a3080ecf",
   "metadata": {
    "id": "Ul1YMiuNjNTL"
   },
   "source": [
    "Print the type of List. "
   ]
  },
  {
   "cell_type": "code",
   "execution_count": 63,
   "id": "5cd30c0f",
   "metadata": {
    "id": "V0VdG9y_jNTL",
    "outputId": "ca19430d-bd1d-456a-cb91-c156f73fe9b1"
   },
   "outputs": [
    {
     "name": "stdout",
     "output_type": "stream",
     "text": [
      "<class 'list'>\n"
     ]
    }
   ],
   "source": [
    "print(type(list))"
   ]
  },
  {
   "cell_type": "markdown",
   "id": "370ae147",
   "metadata": {
    "id": "A0CEMABhjNTL"
   },
   "source": [
    "Create d1 = { ‘singer’ : ‘Kr$na’ , ‘album’: ‘Still here’, ‘genre’ : ‘hip-hop’}"
   ]
  },
  {
   "cell_type": "code",
   "execution_count": 64,
   "id": "b53aedec",
   "metadata": {
    "id": "FCGCw5FEjNTL"
   },
   "outputs": [],
   "source": [
    "d1={'singer':'krisna','album':'Still here','genre':'hip-hop'}\n"
   ]
  },
  {
   "cell_type": "markdown",
   "id": "6eaa1052",
   "metadata": {
    "id": "ybGIILrLjNTM"
   },
   "source": [
    "Merge d1 into d."
   ]
  },
  {
   "cell_type": "code",
   "execution_count": 67,
   "id": "45479ce5",
   "metadata": {
    "id": "UmDbbQJPjNTM"
   },
   "outputs": [],
   "source": [
    "d.update(d1)"
   ]
  },
  {
   "cell_type": "markdown",
   "id": "a5c2c7e9",
   "metadata": {
    "id": "jhAPX45ZjNTM"
   },
   "source": [
    "print d"
   ]
  },
  {
   "cell_type": "code",
   "execution_count": 68,
   "id": "c0e4ca8d",
   "metadata": {
    "id": "785S26ryjNTM",
    "outputId": "82043717-4c5e-4622-8e11-f13d74dd5cc4"
   },
   "outputs": [
    {
     "name": "stdout",
     "output_type": "stream",
     "text": [
      "{'actor': 'amir', 'animal': 'cat', 'earth': 2, 'list': [23, 32, 12], 'singer': 'krisna', 'album': 'Still here', 'genre': 'hip-hop'}\n"
     ]
    }
   ],
   "source": [
    "print(d)"
   ]
  },
  {
   "cell_type": "markdown",
   "id": "9e95317f",
   "metadata": {
    "id": "9E852mY2jNTM"
   },
   "source": [
    "Print all the keys in d"
   ]
  },
  {
   "cell_type": "code",
   "execution_count": 71,
   "id": "f7c86047",
   "metadata": {
    "id": "7K843OrLjNTM",
    "outputId": "4336a57d-eabe-47a7-d910-82c5c8614754"
   },
   "outputs": [
    {
     "name": "stdout",
     "output_type": "stream",
     "text": [
      "dict_keys(['actor', 'animal', 'earth', 'list', 'singer', 'album', 'genre'])\n"
     ]
    }
   ],
   "source": [
    "print(d.keys())"
   ]
  },
  {
   "cell_type": "markdown",
   "id": "85e11dae",
   "metadata": {
    "id": "fiuzxbGkjNTN"
   },
   "source": [
    "Print all the values in d"
   ]
  },
  {
   "cell_type": "code",
   "execution_count": 72,
   "id": "c0b9f12c",
   "metadata": {
    "id": "Pyhh6r0pjNTN",
    "outputId": "8d13b380-1e1f-418c-84e6-ac0638a056e2"
   },
   "outputs": [
    {
     "name": "stdout",
     "output_type": "stream",
     "text": [
      "dict_values(['amir', 'cat', 2, [23, 32, 12], 'krisna', 'Still here', 'hip-hop'])\n"
     ]
    }
   ],
   "source": [
    "print(d.values())"
   ]
  },
  {
   "cell_type": "markdown",
   "id": "22d43bed",
   "metadata": {
    "id": "XSoe8GWmjNTN"
   },
   "source": [
    "Iterate over d, and print each key, value pair as this - (actor ----> amir)"
   ]
  },
  {
   "cell_type": "code",
   "execution_count": 74,
   "id": "c324d1f1",
   "metadata": {
    "id": "O0iW9kiqjNTO",
    "outputId": "d9ab5c07-3de4-4939-dd9e-d6ff75c9aa07"
   },
   "outputs": [
    {
     "data": {
      "text/plain": [
       "dict_items([('actor', 'amir'), ('animal', 'cat'), ('earth', 2), ('list', [23, 32, 12]), ('singer', 'krisna'), ('album', 'Still here'), ('genre', 'hip-hop')])"
      ]
     },
     "execution_count": 74,
     "metadata": {},
     "output_type": "execute_result"
    }
   ],
   "source": [
    "d.items()"
   ]
  },
  {
   "cell_type": "markdown",
   "id": "6fc1db0d",
   "metadata": {
    "id": "Hhzm-EIsjNTO"
   },
   "source": [
    "count the number of occurences of charachters in string named \"sent\" using dictionary and print the same.\n"
   ]
  },
  {
   "cell_type": "code",
   "execution_count": null,
   "id": "9036e0dd",
   "metadata": {
    "id": "IvRlvUAljNTP",
    "outputId": "40f08e65-b884-4b00-aaf4-2cacd1083752"
   },
   "outputs": [],
   "source": [
    "\n",
    "\n"
   ]
  },
  {
   "cell_type": "code",
   "execution_count": null,
   "id": "2944e46e",
   "metadata": {
    "id": "ebNwyxUujNTP"
   },
   "outputs": [],
   "source": []
  }
 ],
 "metadata": {
  "colab": {
   "collapsed_sections": [],
   "provenance": []
  },
  "kernelspec": {
   "display_name": "Python 3 (ipykernel)",
   "language": "python",
   "name": "python3"
  },
  "language_info": {
   "codemirror_mode": {
    "name": "ipython",
    "version": 3
   },
   "file_extension": ".py",
   "mimetype": "text/x-python",
   "name": "python",
   "nbconvert_exporter": "python",
   "pygments_lexer": "ipython3",
   "version": "3.11.5"
  }
 },
 "nbformat": 4,
 "nbformat_minor": 5
}
